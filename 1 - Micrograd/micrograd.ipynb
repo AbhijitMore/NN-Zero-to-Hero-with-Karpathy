{
 "cells": [
  {
   "cell_type": "markdown",
   "metadata": {},
   "source": [
    "# Micrograd: Building a tiny Autograd engine!"
   ]
  },
  {
   "cell_type": "markdown",
   "metadata": {
    "vscode": {
     "languageId": "plaintext"
    }
   },
   "source": [
    "This notebook showcases my implementation of the micrograd project based on the video tutorial by Andrej Karpathy.\n",
    "\n",
    "- **Video Tutorial:** [Watch Here](https://www.youtube.com/watch?v=VMj-3S1tku0&t=4822s)\n",
    "- **Original Micrograd Repository:** [GitHub Repository](https://github.com/karpathy/micrograd/)\n",
    "- **Follow-Up Colab Exercise:** [Colab Exercise](https://colab.research.google.com/drive/1FPTx1RXtBfc4MaTkf7viZZD4U2F9gtKN?usp=sharing)"
   ]
  },
  {
   "cell_type": "markdown",
   "metadata": {
    "vscode": {
     "languageId": "plaintext"
    }
   },
   "source": [
    "## Table of Contents:\n",
    "\n",
    "1. Introduction\n",
    "2. Basics of Derivatives\n",
    "3. Core of Micrograd: The Value Object\n",
    "4. Manual Backpropagation Examples\n",
    "5. Implementing Backward Functionality\n",
    "6. Debugging and Enhancements\n",
    "7. Comparison with PyTorch Autograd\n",
    "8. Building a Tiny Neural Network Library\n",
    "9. Training the Network"
   ]
  },
  {
   "cell_type": "markdown",
   "metadata": {
    "vscode": {
     "languageId": "plaintext"
    }
   },
   "source": [
    "### 1. Introduction\n",
    "\n",
    "In this notebook, we’ll explore the foundational concepts of derivatives and their application in building a micro-scale automatic differentiation NN library. We will focus on the essential components needed for manual backpropagation, discuss how to implement backward functionality, and compare our approach with established frameworks like PyTorch. By the end, you’ll have a clear understanding of the mechanics behind automatic differentiation and how to construct a simple neural network from scratch. This is aimed at learners and practitioners who want to deepen their understanding of these critical concepts without unnecessary complexity.\n",
    "\n",
    "The entire code is in simple python. Lets begin!"
   ]
  },
  {
   "cell_type": "markdown",
   "metadata": {},
   "source": [
    "### 2. Basics of Derivatives"
   ]
  },
  {
   "cell_type": "code",
   "execution_count": 1,
   "metadata": {},
   "outputs": [],
   "source": [
    "import math\n",
    "import numpy as np\n",
    "import matplotlib.pyplot as plt"
   ]
  },
  {
   "cell_type": "code",
   "execution_count": null,
   "metadata": {},
   "outputs": [],
   "source": []
  }
 ],
 "metadata": {
  "kernelspec": {
   "display_name": "karpathy",
   "language": "python",
   "name": "python3"
  },
  "language_info": {
   "codemirror_mode": {
    "name": "ipython",
    "version": 3
   },
   "file_extension": ".py",
   "mimetype": "text/x-python",
   "name": "python",
   "nbconvert_exporter": "python",
   "pygments_lexer": "ipython3",
   "version": "3.8.20"
  }
 },
 "nbformat": 4,
 "nbformat_minor": 2
}
