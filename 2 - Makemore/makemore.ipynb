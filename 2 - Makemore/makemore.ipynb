{
 "cells": [
  {
   "cell_type": "markdown",
   "metadata": {
    "vscode": {
     "languageId": "plaintext"
    }
   },
   "source": [
    "# Bigrams Implementation"
   ]
  },
  {
   "cell_type": "markdown",
   "metadata": {},
   "source": [
    "This notebook showcases my implementation of the bigram model based on the video tutorial by Andrej Karpathy.\n",
    "\n",
    "- **Video Tutorial:** [Watch Here](https://www.youtube.com/watch?v=PaCmpygFfXo)\n",
    "- **Original Makemore Repository:** [GitHub Repository](https://github.com/karpathy/makemore/tree/master)"
   ]
  },
  {
   "cell_type": "markdown",
   "metadata": {},
   "source": []
  }
 ],
 "metadata": {
  "language_info": {
   "name": "python"
  }
 },
 "nbformat": 4,
 "nbformat_minor": 2
}
